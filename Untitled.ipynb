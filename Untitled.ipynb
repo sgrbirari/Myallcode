{
 "cells": [
  {
   "cell_type": "code",
   "execution_count": 2,
   "id": "8e9afd98",
   "metadata": {},
   "outputs": [
    {
     "data": {
      "text/plain": [
       "[1, 2, 3, 4, 5, 7, 8, 9]"
      ]
     },
     "execution_count": 2,
     "metadata": {},
     "output_type": "execute_result"
    }
   ],
   "source": [
    "def Bs(a):\n",
    "    b=len(a)-1\n",
    "    for x in range(b):\n",
    "        for y in range(b-x):\n",
    "            if a[y]>a[y+1]:\n",
    "                a[y],a[y+1]=a[y+1],a[y]\n",
    "    return a\n",
    "a=[3,4,7,2,1,9,8,5]\n",
    "Bs(a)"
   ]
  },
  {
   "cell_type": "code",
   "execution_count": 4,
   "id": "22f4268f",
   "metadata": {},
   "outputs": [
    {
     "name": "stdout",
     "output_type": "stream",
     "text": [
      "[52, 20, 18, 14, 11, 5, 3]\n"
     ]
    }
   ],
   "source": [
    "def Isort(a):\n",
    "    for x in range(1, len(a)):\n",
    "        k=a[x] #element present at a index no. 1\n",
    "        j=x-1\n",
    "        while j>=0 and k>a[j]:\n",
    "            a[j+1]=a[j]\n",
    "            j-=1\n",
    "        a[j+1]=k\n",
    "a=[14,52,11,20,3,18,5]\n",
    "Isort(a)\n",
    "print(a)"
   ]
  },
  {
   "cell_type": "code",
   "execution_count": null,
   "id": "f6f40243",
   "metadata": {},
   "outputs": [],
   "source": [
    " "
   ]
  }
 ],
 "metadata": {
  "kernelspec": {
   "display_name": "Python 3 (ipykernel)",
   "language": "python",
   "name": "python3"
  },
  "language_info": {
   "codemirror_mode": {
    "name": "ipython",
    "version": 3
   },
   "file_extension": ".py",
   "mimetype": "text/x-python",
   "name": "python",
   "nbconvert_exporter": "python",
   "pygments_lexer": "ipython3",
   "version": "3.10.2"
  }
 },
 "nbformat": 4,
 "nbformat_minor": 5
}
